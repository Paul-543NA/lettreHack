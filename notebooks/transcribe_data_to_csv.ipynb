{
 "cells": [
  {
   "cell_type": "code",
   "execution_count": null,
   "metadata": {},
   "outputs": [],
   "source": [
    "import json\n",
    "import os\n",
    "import subprocess\n",
    "\n",
    "import numpy as np\n",
    "import pandas as pd\n",
    "\n",
    "from base64 import b64encode\n",
    "from io import BytesIO\n",
    "from zipfile import ZipFile\n",
    "\n",
    "from anthropic import Anthropic\n",
    "from requests import get\n",
    "from tqdm import tqdm"
   ]
  },
  {
   "cell_type": "code",
   "execution_count": null,
   "metadata": {},
   "outputs": [],
   "source": [
    "_dir = \"./PREM Historical records/\"\n",
    "\n",
    "files = [\n",
    "    f\n",
    "    for f in [\n",
    "        root + \"/\" + f\n",
    "        for root, dirs, files in os.walk(_dir)\n",
    "        for f in [f for f in files if f.endswith((\".pdf\", \".PDF\"))]\n",
    "    ]\n",
    "]\n",
    "\n",
    "for file in files:\n",
    "    os.mkdir(file.removesuffix(\".pdf\"))\n",
    "    # ghostscript installation required\n",
    "    results = subprocess.run(\n",
    "        [\n",
    "            \"gs\",\n",
    "            \"-dNOPAUSE\",\n",
    "            \"-sDEVICE=jpeg\",\n",
    "            \"-r250\",\n",
    "            f'-sOutputFile={file.removesuffix(\".pdf\")}/-%02d.jpg',\n",
    "            f\"{file}\",\n",
    "            \"-dBATCH\",\n",
    "        ],\n",
    "        stdout=subprocess.PIPE,\n",
    "    )\n",
    "    print(results.stdout.decode())"
   ]
  },
  {
   "cell_type": "code",
   "execution_count": null,
   "metadata": {},
   "outputs": [],
   "source": [
    "\n",
    "# https://evidence-hou.se/events/big-llm-hack-24/data/correspondence.html\n",
    "content = get(\n",
    "    \"https://evidence-house-public.s3.eu-west-2.amazonaws.com/national_archive_records.zip\"\n",
    ").content\n",
    "\n",
    "with ZipFile(BytesIO(content), \"r\") as f:\n",
    "    f.extractall(\"./\")\n",
    "os.rename(\" PREM Historical records\", \"PREM Historical records\")"
   ]
  },
  {
   "cell_type": "code",
   "execution_count": null,
   "metadata": {},
   "outputs": [],
   "source": [
    "fields = [\n",
    "    {\n",
    "        \"title\": \"Date\",\n",
    "        \"tag\": \"date\",\n",
    "        \"description\": \"The date the letter was written in YYYY-MM-DD format, or N/A if unknown. If the year and month are known but not the day, use the first day of the month.\",\n",
    "    },\n",
    "    {\n",
    "        \"title\": \"Sender\",\n",
    "        \"tag\": \"sender\",\n",
    "        \"description\": \"The person or department which sent the letter, or N/A if unknown\",\n",
    "    },\n",
    "    {\n",
    "        \"title\": \"Recipient\",\n",
    "        \"tag\": \"recipient\",\n",
    "        \"description\": \"The person or department which received the letter, or N/A if unknown\",\n",
    "    },\n",
    "    {\n",
    "        \"title\": \"Subject\",\n",
    "        \"tag\": \"subject\",\n",
    "        \"description\": \"A one-line subject of the letter if present, otherwise infer this yourself from the context\",\n",
    "    },\n",
    "    {\n",
    "        \"title\": \"Document type\",\n",
    "        \"tag\": \"document-type\",\n",
    "        \"description\": \"State the category type of the document (letter, meeting minutes, balance sheet etc)\",\n",
    "    },\n",
    "    # forgot to add bool for handwritten or not\n",
    "]"
   ]
  },
  {
   "cell_type": "code",
   "execution_count": null,
   "metadata": {},
   "outputs": [],
   "source": [
    "fields_string = \"\\n\".join(\n",
    "    f\"- {field['title']}: {field['description']}. Use the key name '{field['tag']}' .\"\n",
    "    for field in fields\n",
    ")\n",
    "prompt = f\"\"\"\n",
    "\n",
    "Transcribe the text in this image in full, in json format, with the key \"text\".\n",
    "\n",
    "Please also extract the following fields:\n",
    "\n",
    "{fields_string}\n",
    "\n",
    "\"\"\".strip()\n",
    "\n",
    "print(prompt)"
   ]
  },
  {
   "cell_type": "code",
   "execution_count": null,
   "metadata": {},
   "outputs": [],
   "source": [
    "image_data = []\n",
    "for file in files:\n",
    "    with open(file, \"rb\") as f:\n",
    "        image_data.append(b64encode(f.read()).decode(\"utf-8\"))"
   ]
  },
  {
   "cell_type": "code",
   "execution_count": null,
   "metadata": {},
   "outputs": [],
   "source": [
    "client = Anthropic(\n",
    "    api_key=\"\"\n",
    ")\n",
    "image_media_type = \"image/jpeg\"\n",
    "\n",
    "for file, image in tqdm(zip(files, image_data)):\n",
    "    if os.path.exists(file.rstrip(\".jpg\") + \".txt\"):\n",
    "        print(\"skip\")\n",
    "        continue\n",
    "    message = client.messages.create(\n",
    "        model=\"claude-3-haiku-20240307\",\n",
    "        max_tokens=1024,\n",
    "        messages=[\n",
    "            {\n",
    "                \"role\": \"user\",\n",
    "                \"content\": [\n",
    "                    {\n",
    "                        \"type\": \"image\",\n",
    "                        \"source\": {\n",
    "                            \"type\": \"base64\",\n",
    "                            \"media_type\": image_media_type,\n",
    "                            \"data\": image,\n",
    "                        },\n",
    "                    },\n",
    "                    {\"type\": \"text\", \"text\": prompt},\n",
    "                ],\n",
    "            }\n",
    "        ],\n",
    "    )\n",
    "    parsed_doc = message.content[0].text\n",
    "    with open(file.rstrip(\".jpg\") + \".txt\", \"w\") as f:\n",
    "        f.write(parsed_doc)"
   ]
  },
  {
   "cell_type": "code",
   "execution_count": null,
   "metadata": {},
   "outputs": [],
   "source": [
    "files = [\n",
    "    f\n",
    "    for f in [\n",
    "        root + \"/\" + f\n",
    "        for root, dirs, files in os.walk(_dir)\n",
    "        for f in [f for f in files if f.endswith((\".jpg\"))]\n",
    "    ]\n",
    "]\n",
    "\n",
    "json_list = []\n",
    "for idx, file in enumerate(files):\n",
    "    with open(file.removesuffix(\".jpg\") + \".txt\", \"r\") as f:\n",
    "        data = f.read()\n",
    "        try:\n",
    "            if not data.startswith(\"{\"):\n",
    "                data = data[data.index(\"{\") :]\n",
    "        except ValueError as e:\n",
    "            data = '{\\n    \"text\": \"\",\\n    \"date\": \"N/A\",\\n    \"sender\": \"N/A\",\\n    \"recipient\": \"N/A\",\\n    \"subject\": \"N/A\",\\n    \"document-type\": \"N/A\"\\n}'\n",
    "        if not data.endswith(\"{\"):\n",
    "            data = data[: data.rfind(\"}\") + 1]\n",
    "        try:\n",
    "            data.index(\"}\")\n",
    "        except ValueError as ve:\n",
    "            print(f\"{file} is not complete\")\n",
    "            continue\n",
    "        try:\n",
    "            data.index('\"date\":')\n",
    "        except ValueError as ve:\n",
    "            print(f\"{file} is not complete\")\n",
    "            continue\n",
    "        if data.index(\"}\") < data.index('\"date\":'):\n",
    "            data = (\n",
    "                data[: data.index(\"}\")]\n",
    "                + \",\"\n",
    "                + data[data[data.find(\"{\") + 1 :].find(\"{\") + 2 :]\n",
    "            )\n",
    "        try:\n",
    "            json_f = json.loads(data)\n",
    "            json_f[\"source\"] = file.removeprefix(_dir)\n",
    "            json_list.append(json_f)\n",
    "        except ValueError as e:\n",
    "            print(file.removesuffix(\".jpg\") + \".txt\" + \"could not process file\")\n",
    "            continue\n",
    "\n",
    "    # missing delimeters (\",\") after a kv pair is also an issue"
   ]
  },
  {
   "cell_type": "code",
   "execution_count": null,
   "metadata": {},
   "outputs": [],
   "source": [
    "# filter to rows that have both a sender and recipient\n",
    "df = pd.DataFrame.from_records(json_list).replace(\"N/A\", np.nan).dropna(subset=[\"sender\", \"recipient\"])\n",
    "# df[\"source\"] = df[\"source\"].apply(lambda x: \"/\".join(x.split(\"/\")[:-1]) + \"/\" + x.split(\"/\")[-1].zfill(8))\n",
    "# df = df.sort_values([\"source\"]).reset_index(drop=True)"
   ]
  },
  {
   "cell_type": "markdown",
   "metadata": {},
   "source": [
    "---"
   ]
  },
  {
   "cell_type": "code",
   "execution_count": null,
   "metadata": {},
   "outputs": [],
   "source": [
    "_dict = {\"Prime Minister's Office, No. 10 Downing Street\": '10 Downing Street is the official residence and the office of the British Prime Minister. The office helps the Prime Minister to establish and deliver the government’s overall strategy and policy priorities, and to communicate the government’s policies to Parliament, the public and international audiences.',\n",
    " \"Attorney General's Office\": 'The Attorney General’s Office (AGO) provides legal advice and support to the Attorney General and the Solicitor General (the Law Officers) who give legal advice to government. The AGO helps the Law Officers perform other duties in the public interest, such as looking at sentences which may be too low.',\n",
    " 'Cabinet Office': 'We support the Prime Minister and ensure the effective running of government. We are also the corporate headquarters for government, in partnership with HM Treasury, and we take the lead in certain critical policy areas.',\n",
    " 'Department for Business and Trade': 'We are the department for economic growth. We support businesses to invest, grow and export, creating jobs and opportunities across the country.',\n",
    " 'Department fot Culture, Media and Sport': 'The Department for Culture, Media and Sport supports culture, arts, media, sport, tourism and civil society across every part of England — recognising the UK’s world-leading position in these areas and the importance of these sectors in contributing so much to our economy, way of life and our reputation around the world.',\n",
    " 'Department for Education': 'The Department for Education is responsible for children’s services and education, including early years, schools, higher and further education policy, apprenticeships and wider skills in England.',\n",
    " 'Department for Energy, Security and Net Zero': 'Securing our long-term energy supply, bringing down bills and halving inflation.',\n",
    " 'Department for Environment, Food and Rural Affairs': 'We are responsible for improving and protecting the environment. We aim to grow a green economy and sustain thriving rural communities. We also support our world-leading food, farming and fishing industries.',\n",
    " 'Department for Levelling-up, Housing and Communities': 'The Department for Levelling Up, Housing and Communities supports communities across the UK to thrive, making them great places to live and work.',\n",
    " 'Department for Science, Innovation and Technology': 'Driving innovation that will deliver improved public services, create new better-paid jobs and grow the economy.',\n",
    " 'Department for Transport': 'We work with our agencies and partners to support the transport network that helps the UK’s businesses and gets people and goods travelling around the country. We plan and invest in transport infrastructure to keep the UK on the move.',\n",
    " 'Department for Work and Pensions': 'The Department for Work and Pensions (DWP) is responsible for welfare, pensions and child maintenance policy. As the UK’s biggest public service department it administers the State Pension and a range of working age, disability and ill health benefits to around 20 million claimants and customers.',\n",
    " 'Department for Health and Social Care': 'We support ministers in leading the nation’s health and social care to help people live more independent, healthier lives for longer.',\n",
    " 'Foreign, Commonwealth and Development Office': 'We support ministers in leading the nation’s health and social care to help people live more independent, healthier lives for longer.',\n",
    " 'HM Treasury': 'HM Treasury is the government’s economic and finance ministry, maintaining control over public spending, setting the direction of the UK’s economic policy and working to achieve strong and sustainable economic growth.',\n",
    " 'Home Office': 'The first duty of the government is to keep citizens safe and the country secure. The Home Office plays a fundamental role in the security and economic prosperity of the UK.',\n",
    " 'Ministry of Defence': 'We work for a secure and prosperous United Kingdom with global reach and influence. We will protect our people, territories, values and interests at home and overseas, through strong armed forces and in partnership with allies, to ensure our security, support our national interests and safeguard our prosperity.',\n",
    " 'Ministry of Justice': 'The Ministry of Justice is a major government department, at the heart of the justice system. We work to protect and advance the principles of justice. Our vision is to deliver a world-class justice system that works for everyone in society.',\n",
    " 'Northern Ireland Office': 'We ensure the smooth working of the devolution settlement in Northern Ireland.',\n",
    " 'Office of the Advocate General for Scotland': 'The Office of the Advocate General (OAG) is the UK government’s Scottish legal team.\\n\\nWe provide legal advice, drafting and litigation services to the UK government in relation to Scotland.\\n\\nWe also support the Advocate General in his role as a Law Officer.',\n",
    " 'Office of the Leader of the House of Commons': 'We provide support to the Leader of the House of Commons, who is responsible for planning and supervising the government’s legislative programme (including the King’s speech), and managing government business within the House of Commons while also upholding the rights and interests of the backbench members of the House.',\n",
    " 'Office of the Leader of the House of Lords': 'We provide support to the Leader of the House of Lords. The Leader of the House is appointed by the Prime Minister, is a member of Cabinet, and is responsible for the conduct of government business in the Lords. The Leader advises the House on procedure and order, and she and her office are available to assist and advise all members of the House.',\n",
    " 'Office of the Secretary of State for Scotland': 'The Office of the Secretary of State for Scotland supports the Secretary of State in promoting the best interests of Scotland within a stronger United Kingdom. It ensures Scottish interests are fully and effectively represented at the heart of the UK government, and the UK government’s responsibilities are fully and effectively represented in Scotland.',\n",
    " 'Office of the Secretary of State for Wales': 'The Office of the Secretary of State for Wales supports the Welsh Secretary and the Parliamentary Under Secretary of State in promoting the best interests of Wales within a stronger United Kingdom. It ensures Welsh interests are represented at the heart of the UK government and the UK government’s responsibilities are represented in Wales.',\n",
    " 'UK Export Finance': 'We advance prosperity by ensuring no viable UK export fails for lack of finance or insurance, doing that sustainably and at no net cost to the taxpayer.'}"
   ]
  },
  {
   "cell_type": "code",
   "execution_count": null,
   "metadata": {},
   "outputs": [],
   "source": [
    "client = Anthropic(\n",
    "    api_key=\"\"\n",
    ")"
   ]
  },
  {
   "cell_type": "code",
   "execution_count": null,
   "metadata": {},
   "outputs": [],
   "source": [
    "prompt = f\"\"\"\n",
    "You are an assistant that works for the UK Government that helps determine, given text from a letter, which gov department is responsible for replying to a given letter. This determination is formed from the content of the letter, figure out the relevant policy area and determine the department whose responsibility it is to form a response.\n",
    "Multiple departments can be given but generally it should be kept to 1.\n",
    "\n",
    "Give your response in JSON only. Do not write any other text other than the JSON data.\n",
    "Use JSON format with the keys \"department\" and \"justification\"\n",
    "Justification should be very brief (i.e. x policy is covered in the remit by x department)\n",
    "\n",
    "---\n",
    "\n",
    "The following are government departments you can consider with their remit:\n",
    "{_dict}\n",
    "\n",
    "---\n",
    "\n",
    "Letter:\\n\n",
    "\"\"\""
   ]
  },
  {
   "cell_type": "code",
   "execution_count": null,
   "metadata": {},
   "outputs": [],
   "source": [
    "texts = []\n",
    "for text in tqdm(df[\"text\"]):\n",
    "    message = client.messages.create(\n",
    "        model=\"claude-3-haiku-20240307\",\n",
    "        max_tokens=1024,\n",
    "        messages=[\n",
    "            {\"role\": \"user\", \"content\": (prompt + text).strip()}\n",
    "        ],\n",
    "    )\n",
    "    texts.append(message.content[0].text)\n",
    "    "
   ]
  },
  {
   "cell_type": "code",
   "execution_count": null,
   "metadata": {},
   "outputs": [],
   "source": [
    "texts[115] = \"{\\\"department\\\": \\\"Foreign, Commonwealth and Development Office\\\", \\\"justification\\\": \\\"The letter mentions \\\\\\\"Her Majesty's Representatives in Community capitals and in Washington\\\\\\\", which suggests that the content of the letter is related to international affairs and foreign policy, falling under the remit of the Foreign, Commonwealth and Development Office.\\\"}\""
   ]
  },
  {
   "cell_type": "code",
   "execution_count": null,
   "metadata": {},
   "outputs": [],
   "source": [
    "json_data = [json.loads(text.removeprefix(\"```json\").removesuffix(\"```\")) for text in texts]\n",
    "df = pd.concat([df, pd.DataFrame.from_records(json_data)], axis=1)"
   ]
  },
  {
   "cell_type": "code",
   "execution_count": null,
   "metadata": {},
   "outputs": [],
   "source": [
    "df = df.replace(np.nan, \"N/A\")\n",
    "df[\"Deadline_date\"] = df[\"date\"].replace(\"N/A\", np.nan).astype(\"datetime64[ns]\").apply(lambda x: x + pd.tseries.offsets.BDay(20)).astype(\"str\").replace(\"NaT\", \"N/A\")"
   ]
  },
  {
   "cell_type": "code",
   "execution_count": null,
   "metadata": {},
   "outputs": [],
   "source": [
    "df.to_csv(\"../lettreHack/data/single-page-letters.csv\", index=False)"
   ]
  },
  {
   "cell_type": "markdown",
   "metadata": {},
   "source": [
    "- 9 iterations per second per sheet for 3152 this cost £3.24\n",
    "- 2 iterations for subsequent processing for 406 this cost £0.21\n",
    "\n"
   ]
  }
 ],
 "metadata": {
  "kernelspec": {
   "display_name": "geo",
   "language": "python",
   "name": "geo"
  },
  "language_info": {
   "codemirror_mode": {
    "name": "ipython",
    "version": 3
   },
   "file_extension": ".py",
   "mimetype": "text/x-python",
   "name": "python",
   "nbconvert_exporter": "python",
   "pygments_lexer": "ipython3",
   "version": "3.10.12"
  }
 },
 "nbformat": 4,
 "nbformat_minor": 2
}
